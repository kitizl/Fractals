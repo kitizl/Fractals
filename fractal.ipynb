{
 "cells": [
  {
   "attachments": {},
   "cell_type": "markdown",
   "metadata": {},
   "source": [
    "# Fractal Generator\n",
    "\n",
    "Let us start with the Mandelbrot set. \n",
    "\n",
    "The Mandelbrot set is a set of all values $c$ for which the orbit of the critical point $z=0$ under the following iteration,\n",
    "\n",
    "$$\n",
    "z_{n+1} = z_n^2 + c\n",
    "$$\n",
    "\n",
    "remains bounded.\n",
    "\n",
    "For example, say we pick up $c=1$. Then, we get the following series,"
   ]
  },
  {
   "cell_type": "code",
   "execution_count": 1,
   "metadata": {},
   "outputs": [
    {
     "name": "stdout",
     "output_type": "stream",
     "text": [
      "0\n",
      "1\n",
      "2\n",
      "5\n",
      "26\n",
      "677\n",
      "458330\n",
      "210066388901\n",
      "44127887745906175987802\n",
      "1947270476915296449559703445493848930452791205\n"
     ]
    }
   ],
   "source": [
    "# start with z=0\n",
    "z = 0\n",
    "c = 1\n",
    "for n in range(10):\n",
    "\tprint(z)\n",
    "\tnext_z = z**2 + c\n",
    "\tz = next_z\n",
    "\t\n"
   ]
  },
  {
   "attachments": {},
   "cell_type": "markdown",
   "metadata": {},
   "source": [
    "This is clearly unbounded, and so, 1 does not belong to the Mandelbrot set. On the other hand, if we choose $c=-1$,"
   ]
  },
  {
   "cell_type": "code",
   "execution_count": 2,
   "metadata": {},
   "outputs": [
    {
     "name": "stdout",
     "output_type": "stream",
     "text": [
      "0\n",
      "-1\n",
      "0\n",
      "-1\n",
      "0\n",
      "-1\n",
      "0\n",
      "-1\n",
      "0\n",
      "-1\n"
     ]
    }
   ],
   "source": [
    "z=0\n",
    "c=-1\n",
    "for n in range(10):\n",
    "    print(z)\n",
    "    next_z = z**2 + c\n",
    "    z = next_z"
   ]
  },
  {
   "attachments": {},
   "cell_type": "markdown",
   "metadata": {},
   "source": [
    "This is bounded, even if it does not converge.\n",
    "\n",
    "So, here's a question : how do you manage to find all values of c?\n",
    "\n",
    "Now, I'm not going to try and solve this myself. I'm just going to look up how this is normally done in Wikipedia and try to do as many as I can."
   ]
  },
  {
   "attachments": {},
   "cell_type": "markdown",
   "metadata": {},
   "source": [
    "## Unoptimized naive escape time algorithm\n",
    "\n",
    "You basically create a grid. Each pixel position, x and y, corresponds to your starting value of $c$.\n",
    "\n",
    "You keep performing the iterations until it hits an \"escape condition\", then you bail out. Positions outside the Mandelbrot set will eventually converge, maybe quickly. Regions close to the boundary, it will take a while to converge. Regions inside the Mandelbrot set will never converge. So you also need to set some maximum depth : `MAX_DEPTH` for how many iterations you will perform before you give up and say it's inside the Mandelbrot set.\n",
    "\n",
    "The escape conditions are multidunious, but a basic condition is that, if either the real or imaginary part of the complex number exceeds 2, you will bail out immediately.\n",
    "\n",
    "A fast way to do the above is to calculate the Pythagoras theorem and say that the hypot is greater than 4, kick it out.\n",
    "\n",
    "Color of the pixel represents how quickly that pixel took to get to the escape point. Paint it black if we hit the max depth before we hit the escape point.\n",
    "\n",
    "Now, for the rendering. Let me just steal them.\n",
    "\n",
    "```\n",
    "for each pixel (Px, Py) on the screen do\n",
    "    x0 := scaled x coordinate of pixel (scaled to lie in the Mandelbrot X scale (-2.00, 0.47))\n",
    "    y0 := scaled y coordinate of pixel (scaled to lie in the Mandelbrot Y scale (-1.12, 1.12))\n",
    "    x := 0.0\n",
    "    y := 0.0\n",
    "    iteration := 0\n",
    "    max_iteration := 1000\n",
    "    while (x*x + y*y ≤ 2*2 AND iteration < max_iteration) do\n",
    "        xtemp := x*x - y*y + x0\n",
    "        y := 2*x*y + y0\n",
    "        x := xtemp\n",
    "        iteration := iteration + 1\n",
    " \n",
    "    color := palette[iteration]\n",
    "    plot(Px, Py, color)\n",
    "```\n",
    "\n"
   ]
  },
  {
   "cell_type": "code",
   "execution_count": 3,
   "metadata": {},
   "outputs": [],
   "source": [
    "#python3\n",
    "import numpy as np\n",
    "import matplotlib.pyplot as plt\n",
    "import time"
   ]
  },
  {
   "cell_type": "code",
   "execution_count": 57,
   "metadata": {},
   "outputs": [],
   "source": [
    "class Pixel:\n",
    "    def __init__(self, x, y, color):\n",
    "        self.x = x\n",
    "        self.y = y\n",
    "        self.color = color\n",
    "\n",
    "def rescale(number, width, min_val, max_val):\n",
    "    return (max_val - min_val)*number/width + min_val"
   ]
  },
  {
   "attachments": {},
   "cell_type": "markdown",
   "metadata": {},
   "source": [
    "This works for when the number of horizontal and vertical pixels are the same. When it's not the same, for some reason, there's banding and interlocking bullshit. This is quite possibly because of our exit condition. It expects some rotational symmetry in our campus."
   ]
  },
  {
   "cell_type": "code",
   "execution_count": 52,
   "metadata": {},
   "outputs": [],
   "source": [
    "def unoptimized_escape_time_algorithm(x_width, y_width):\n",
    "\txs = np.arange(0,x_width)\n",
    "\tys = np.arange(0,y_width)\n",
    "\n",
    "\tscreen = np.asarray([[Pixel(x, y, 0) for x in xs] for y in ys]).flatten()\n",
    "\tfor pixel in screen:\n",
    "\t\tx0 = rescale(pixel.x, x_width, -2.00, 0.47)\n",
    "\t\ty0 = rescale(pixel.y, y_width, -1.12, 1.12)\n",
    "\t\tx = 0\n",
    "\t\ty = 0\n",
    "\t\titeration = 0\n",
    "\t\tmax_iter = 1000\n",
    "\t\twhile ((x*x + y*y <= 2*2) and (iteration < max_iter)):\n",
    "\t\t\txtemp = x*x - y*y + x0\n",
    "\t\t\ty = 2*x*y + y0\n",
    "\t\t\tx = xtemp\n",
    "\t\t\titeration += 1\n",
    "\t\tpixel.color = iteration\n",
    "\t\n",
    "\tpixel_color = [pixel.color for pixel in screen]\n",
    "\treshaped_screen = np.reshape(pixel_color, (x_width,100))\n",
    "\n",
    "\tplt.figure(figsize=(x_width//20, y_width//20))\n",
    "\tplt.title(f\"{x_width}x{y_width}\")\n",
    "\tplt.imshow(reshaped_screen, interpolation=\"none\")\n",
    "\tplt.show()\n",
    "  "
   ]
  },
  {
   "cell_type": "code",
   "execution_count": 55,
   "metadata": {},
   "outputs": [],
   "source": [
    "def optimized_escape_time_alogrithm(x_width, y_width):\n",
    "\txs = np.arange(0,x_width)\n",
    "\tys = np.arange(0,y_width)\n",
    "\n",
    "\tscreen = np.asarray([[Pixel(x, y, 0) for x in xs] for y in ys]).flatten()\n",
    "\tfor pixel in screen:\n",
    "\t\tx0 = rescale(pixel.x, x_width, -2.00, 0.47)\n",
    "\t\ty0 = rescale(pixel.y, y_width, -1.12, 1.12)\n",
    "\t\tx = 0\n",
    "\t\ty = 0\n",
    "\t\titeration = 0\n",
    "\t\tmax_iter = 1000\n",
    "\n",
    "\t\tx2 = 0\n",
    "\t\ty2 = 0\n",
    "\t\twhile ((x2 + y2 <= 4) and (iteration < max_iter)):\n",
    "\t\t\ty = 2 * x * y + y0\n",
    "\t\t\tx = x2 - y2 + x0\n",
    "\t\t\tx2 = x * x\n",
    "\t\t\ty2 = y * y\n",
    "\t\t\titeration += 1\n",
    "\t\tpixel.color = iteration\n",
    "\t\n",
    "\tpixel_color = [pixel.color for pixel in screen]\n",
    "\treshaped_screen = np.reshape(pixel_color, (x_width,100))\n",
    "\n",
    "\tplt.figure(figsize=(x_width//20, y_width//20))\n",
    "\tplt.title(f\"{x_width}x{y_width}\")\n",
    "\tplt.imshow(reshaped_screen, interpolation=\"none\")\n",
    "\tplt.show()\n",
    "  "
   ]
  },
  {
   "cell_type": "code",
   "execution_count": 56,
   "metadata": {},
   "outputs": [
    {
     "data": {
      "image/png": "[encoded data removed]",
      "text/plain": [
       "<Figure size 360x360 with 1 Axes>"
      ]
     },
     "metadata": {
      "needs_background": "light"
     },
     "output_type": "display_data"
    }
   ],
   "source": [
    "start = time.clock()\n",
    "\n",
    "unoptimized_escape_time_algorithm(100,100)\n",
    "\n",
    "end = time.clock()\n",
    "\n",
    "print(f\"Unoptimized time : {end-start} us\")\n",
    "\n",
    "start = time.clock()\n",
    "\n",
    "optimized_escape_time_alogrithm(100,100)\n",
    "\n",
    "end = time.clock()\n",
    "\n",
    "print(f\"Optimized time : {end-start} us\")"
   ]
  },
  {
   "cell_type": "code",
   "execution_count": null,
   "metadata": {},
   "outputs": [],
   "source": []
  }
 ],
 "metadata": {
  "kernelspec": {
   "display_name": "base",
   "language": "python",
   "name": "python3"
  },
  "language_info": {
   "codemirror_mode": {
    "name": "ipython",
    "version": 3
   },
   "file_extension": ".py",
   "mimetype": "text/x-python",
   "name": "python",
   "nbconvert_exporter": "python",
   "pygments_lexer": "ipython3",
   "version": "3.8.3"
  },
  "orig_nbformat": 4
 },
 "nbformat": 4,
 "nbformat_minor": 2
}
