{
 "cells": [
  {
   "attachments": {},
   "cell_type": "markdown",
   "metadata": {},
   "source": [
    "# A Pillow Test\n",
    "\n",
    "The previous thing used Matplotlib to render the final image, which has it's own performance quirks. This time we will try to use Pillow instead, since this is now less a data visualization thing and more of a computer graphics thing, and therefore will afford us greater control over the final rendered image.\n",
    "\n",
    "We will be doing almost exactly the same thing as before (slightly optimized escape time algorithm), but with Pillow instead.\n",
    "\n"
   ]
  },
  {
   "cell_type": "code",
   "execution_count": 1,
   "metadata": {},
   "outputs": [],
   "source": [
    "import numpy as np\n",
    "\n",
    "class Pixel:\n",
    "    \"\"\"\n",
    "    A class to manage Pixel properties\n",
    "    \"\"\"\n",
    "    def __init__(self, x, y, color):\n",
    "        self.x = x\n",
    "        self.y = y\n",
    "        self.color = color\n",
    "\n",
    "def rescale(number, width, min_val, max_val):\n",
    "    \"\"\"\n",
    "    A function to rescale values based on resolutions\n",
    "    \"\"\"\n",
    "    return (max_val-min_val)*number/width + min_val\n",
    "\n",
    "# here, we are only implementing the optimized-ish algorithm\n",
    "\n",
    "def optimized_escape_time_alogrithm(x_width, y_width):\n",
    "\txs = np.arange(0,x_width)\n",
    "\tys = np.arange(0,y_width)\n",
    "\n",
    "\tscreen = np.asarray([[Pixel(x, y, 0) for x in xs] for y in ys]).flatten()\n",
    "\tfor pixel in screen:\n",
    "\t\tx0 = rescale(pixel.x, x_width, -2.00, 0.47)\n",
    "\t\ty0 = rescale(pixel.y, y_width, -1.12, 1.12)\n",
    "\t\tx = 0\n",
    "\t\ty = 0\n",
    "\t\titeration = 0\n",
    "\t\tmax_iter = 1000\n",
    "\n",
    "\t\tx2 = 0\n",
    "\t\ty2 = 0\n",
    "\t\twhile ((x2 + y2 <= 4) and (iteration < max_iter)):\n",
    "\t\t\ty = 2 * x * y + y0\n",
    "\t\t\tx = x2 - y2 + x0\n",
    "\t\t\tx2 = x * x\n",
    "\t\t\ty2 = y * y\n",
    "\t\t\titeration += 1\n",
    "\t\tpixel.color = iteration\n",
    "\t\n",
    "\tpixel_color = [pixel.color for pixel in screen]\n",
    "\treshaped_screen = np.reshape(pixel_color, (x_width,y_width))\n",
    "\n",
    "\treturn reshaped_screen"
   ]
  },
  {
   "cell_type": "code",
   "execution_count": 2,
   "metadata": {},
   "outputs": [],
   "source": [
    "# now we do the pillow shit\n",
    "\n",
    "from PIL import Image\n",
    "\n",
    "width = 200\n",
    "height = 200\n",
    "\n",
    "generated_fractal_array = optimized_escape_time_alogrithm(width, height)\n",
    "\n"
   ]
  },
  {
   "cell_type": "code",
   "execution_count": 3,
   "metadata": {},
   "outputs": [
    {
     "data": {
      "image/png": "[encoded data removed]",
      "text/plain": [
       "<PIL.Image.Image image mode=I size=200x200 at 0x2493034FE80>"
      ]
     },
     "execution_count": 3,
     "metadata": {},
     "output_type": "execute_result"
    }
   ],
   "source": [
    "img = Image.fromarray(generated_fractal_array)\n",
    "img"
   ]
  },
  {
   "attachments": {},
   "cell_type": "markdown",
   "metadata": {},
   "source": [
    "This of course is a little bit dull, because the colours are now boring as hell. It needs to be mapped onto a colour spectrum of sorts. Running `img.mode` gives us the color mode it uses, which appears to be `I`, which is a 32-bit signed integer pixel. We need to change this using a color map of some kind.\n",
    "\n",
    "To do this, we will employ HSV counting. The way we will employ this is by taking the `iter_count` of each pixel, and rescale it within 0 and `max_iter` to 0 and 360 (luckily, we have a rescale function that can help us with that).\n",
    "\n",
    "$$\n",
    "\\begin{align}\n",
    "h &= \\left(\\frac{i}{\\text{max}_i}\\times 360\\right)^{1.5}\\\\\n",
    "s &= 100\\\\\n",
    "v &= \\frac{i}{\\text{max}_i} \\times 100\n",
    "\\end{align}\n",
    "$$\n",
    "\n",
    "We can change $s$ to 50 to decrease saturation if we want. Additionally, we can offer other color maps, should we be interested in that, such as LCH colouring.\n",
    "\n",
    "To do this efficiently, we will perform the transformation on the array itself, and then while converting the array into an image, we will assign the appropriate color mode."
   ]
  },
  {
   "cell_type": "code",
   "execution_count": 4,
   "metadata": {},
   "outputs": [],
   "source": [
    "max_iter = 1000"
   ]
  },
  {
   "cell_type": "code",
   "execution_count": 5,
   "metadata": {},
   "outputs": [],
   "source": [
    "iter_vals_flattened = generated_fractal_array.flatten()\n",
    "hue_vals = ((iter_vals_flattened/max_iter * 360)**1.5)%360\n",
    "sat_vals = np.ones(hue_vals.shape)*100\n",
    "val_vals = iter_vals_flattened/max_iter * 100"
   ]
  },
  {
   "cell_type": "code",
   "execution_count": 6,
   "metadata": {},
   "outputs": [
    {
     "name": "stdout",
     "output_type": "stream",
     "text": [
      "(1, 40000, 3)\n",
      "[  0.216 100.      0.1  ]\n"
     ]
    }
   ],
   "source": [
    "hsv_vals = np.dstack((hue_vals, sat_vals, val_vals))\n",
    "print(hsv_vals.shape)\n",
    "print(hsv_vals[0][0])\n"
   ]
  },
  {
   "cell_type": "code",
   "execution_count": 7,
   "metadata": {},
   "outputs": [
    {
     "name": "stdout",
     "output_type": "stream",
     "text": [
      "[[[  0 100   0]\n",
      "  [  0 100   0]\n",
      "  [  0 100   0]\n",
      "  ...\n",
      "  [  0 100   0]\n",
      "  [  0 100   0]\n",
      "  [  0 100   0]]\n",
      "\n",
      " [[  0 100   0]\n",
      "  [  0 100   0]\n",
      "  [  0 100   0]\n",
      "  ...\n",
      "  [  0 100   0]\n",
      "  [  0 100   0]\n",
      "  [  0 100   0]]\n",
      "\n",
      " [[  0 100   0]\n",
      "  [  0 100   0]\n",
      "  [  0 100   0]\n",
      "  ...\n",
      "  [  0 100   0]\n",
      "  [  0 100   0]\n",
      "  [  0 100   0]]\n",
      "\n",
      " ...\n",
      "\n",
      " [[  0 100   0]\n",
      "  [  0 100   0]\n",
      "  [  0 100   0]\n",
      "  ...\n",
      "  [  0 100   0]\n",
      "  [  0 100   0]\n",
      "  [  0 100   0]]\n",
      "\n",
      " [[  0 100   0]\n",
      "  [  0 100   0]\n",
      "  [  0 100   0]\n",
      "  ...\n",
      "  [  0 100   0]\n",
      "  [  0 100   0]\n",
      "  [  0 100   0]]\n",
      "\n",
      " [[  0 100   0]\n",
      "  [  0 100   0]\n",
      "  [  0 100   0]\n",
      "  ...\n",
      "  [  0 100   0]\n",
      "  [  0 100   0]\n",
      "  [  0 100   0]]]\n"
     ]
    }
   ],
   "source": [
    "hsv_vals = hsv_vals.reshape((*generated_fractal_array.shape, 3))\n",
    "\n",
    "hsv_vals = hsv_vals.astype('uint8')\n",
    "print(hsv_vals)\n"
   ]
  },
  {
   "cell_type": "code",
   "execution_count": 8,
   "metadata": {},
   "outputs": [],
   "source": [
    "Image.fromarray(hsv_vals, mode=\"HSV\").show()"
   ]
  },
  {
   "attachments": {},
   "cell_type": "markdown",
   "metadata": {},
   "source": [
    "Of course, I have now discovered the hard way that PIL doesn't like anything that is not a `uint8`, meaning if I provide a hue value that's above 255, it starts freaking out. As a consequence, I have to, yes you heard that right, rescale it to 255.\n",
    "\n",
    "I'm not going to change any of the above code per se, I'm just going to do some additional tests, in some sense.\n",
    "\n",
    "Update : I fucking hate everything, _everything_ needs to be rescaled to 255. aaAAAA."
   ]
  },
  {
   "cell_type": "code",
   "execution_count": 9,
   "metadata": {},
   "outputs": [],
   "source": [
    "# first, we will rescale it while already mapping the iteration numbers to the final values\n",
    "\n",
    "iter_vals_flattened = generated_fractal_array.flatten()\n",
    "hue_vals = ((iter_vals_flattened/max_iter * 255)**1.5)%255\n",
    "sat_vals = np.ones(hue_vals.shape)*255\n",
    "val_vals = iter_vals_flattened/max_iter * 255\n",
    "\n",
    "hsv_vals = np.dstack((hue_vals, sat_vals, val_vals)).reshape((*generated_fractal_array.shape, 3)).astype(\"uint8\")\n",
    "\n",
    "img = Image.fromarray(hsv_vals, mode=\"HSV\")\n",
    "\n",
    "img.show()\n",
    "\n",
    "# it works as expected, I guess, I just don't like it that much lol."
   ]
  },
  {
   "cell_type": "code",
   "execution_count": 10,
   "metadata": {},
   "outputs": [],
   "source": [
    "# anyway, just to encapsulate all of this into a function\n",
    "\n",
    "def convert2HSV(arr):\n",
    "    \"\"\"\n",
    "    Takes in an array and maps the iteration values to some HSV\n",
    "    value, as determined by the exponential mapping formula.\n",
    "    \n",
    "\tTakes in an array, returns an array\n",
    "    \"\"\"\n",
    "    iter_vals_flattened = arr.flatten()\n",
    "    hue_vals = ((arr/max_iter * 255)**1.5)%255\n",
    "    sat_vals = np.ones(hue_vals.shape)*255\n",
    "    val_vals = arr/max_iter * 255\n",
    "    hsv_vals = np.dstack((hue_vals, sat_vals, val_vals)).reshape((*arr.shape, 3)).astype(\"uint8\")\n",
    "    return hsv_vals\n",
    "\n",
    "\n",
    "    \n"
   ]
  },
  {
   "cell_type": "code",
   "execution_count": 11,
   "metadata": {},
   "outputs": [
    {
     "name": "stdout",
     "output_type": "stream",
     "text": [
      "(100, 100)\n",
      "Generating the fractal took 9.443e+00s\n",
      "Converting values to HSV took 2.227e-03s\n",
      "Converting array to image and displaying took 2.016e+00s\n"
     ]
    }
   ],
   "source": [
    "# so, our overall procedure now is\n",
    "import time\n",
    "width = 100\n",
    "height = 100\n",
    "\n",
    "start = time.time_ns()\n",
    "\n",
    "raw_array = optimized_escape_time_alogrithm(width, height)\n",
    "print(raw_array.shape)\n",
    "\n",
    "end = time.time_ns()\n",
    "\n",
    "print(f\"Generating the fractal took {(end-start)*1e-9:1.3e}s\")\n",
    "\n",
    "start = time.time_ns()\n",
    "hsv_array = convert2HSV(raw_array)\n",
    "end = time.time_ns()\n",
    "\n",
    "print(f\"Converting values to HSV took {(end-start)*1e-9:1.3e}s\")\n",
    "# produce the HSV fractal\n",
    "\n",
    "start = time.time_ns()\n",
    "\n",
    "hsv_img = Image.fromarray(hsv_array, mode=\"HSV\")\n",
    "\n",
    "# display the image\n",
    "hsv_img.show()\n",
    "end = time.time_ns()\n",
    "\n",
    "print(f\"Converting array to image and displaying took {(end-start)*1e-9:1.3e}s\")\n",
    "\n"
   ]
  },
  {
   "attachments": {},
   "cell_type": "markdown",
   "metadata": {},
   "source": [
    "As can be seen above, the new operations add an overhead of ~1.7 seconds for a 1920x1920 picture, which is remarkably fast in some sense of speaking. It still doesn't look very amazing, but it's a good thing we've already in some sense implemented our color scheme tasks."
   ]
  },
  {
   "cell_type": "markdown",
   "metadata": {},
   "source": []
  }
 ],
 "metadata": {
  "kernelspec": {
   "display_name": "base",
   "language": "python",
   "name": "python3"
  },
  "language_info": {
   "codemirror_mode": {
    "name": "ipython",
    "version": 3
   },
   "file_extension": ".py",
   "mimetype": "text/x-python",
   "name": "python",
   "nbconvert_exporter": "python",
   "pygments_lexer": "ipython3",
   "version": "3.8.3"
  },
  "orig_nbformat": 4
 },
 "nbformat": 4,
 "nbformat_minor": 2
}
